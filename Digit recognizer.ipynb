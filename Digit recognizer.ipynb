{
 "cells": [
  {
   "cell_type": "code",
   "execution_count": null,
   "metadata": {},
   "outputs": [],
   "source": [
    "import numpy as np # linear algebra\n",
    "import pandas as pd # data processing, CSV file I/O (e.g. pd.read_csv)\n",
    "import tensorflow as tf\n",
    "import matplotlib.pyplot as plt\n",
    "from tensorflow.keras.models import Sequential\n",
    "from tensorflow.keras.layers import Conv2D,MaxPooling2D,Dropout,Dense,Flatten"
   ]
  },
  {
   "cell_type": "code",
   "execution_count": null,
   "metadata": {},
   "outputs": [],
   "source": [
    "traindata_url = \"https://drive.google.com/open?id=1mpWE6oncoxH8b6jMbgYZIhuTTaKBg4PZ\"\n",
    "testdata_url = \"https://drive.google.com/open?id=1GiRQrsSlzzhFVFnL1rWXoiEBwhKLP-V0\"\n",
    "#Load test data and train data from the dataset\n",
    "traindata = pd.read_csv(traindata_url)\n",
    "testdata = pd.read_csv(testdata_url)"
   ]
  },
  {
   "cell_type": "code",
   "execution_count": null,
   "metadata": {},
   "outputs": [],
   "source": [
    "#normalize the data\n",
    "xtrain=xtrain/255.0\n",
    "testdata=testdata/255.0\n",
    "#convert the labels into one-hot encoded vectors\n",
    "ytrain = tf.keras.utils.to_categorical(ytrain,num_classes=10)"
   ]
  },
  {
   "cell_type": "code",
   "execution_count": null,
   "metadata": {},
   "outputs": [],
   "source": [
    "#create a model\n",
    "model = Sequential()\n",
    "model.add(Conv2D(32,kernel_size=(3,3),activation = 'relu',input_shape=(28,28,1)))\n",
    "model.add(MaxPooling2D(2,2))\n",
    "model.add(Conv2D(16,kernel_size=(3,3),activation = 'relu',input_shape=(28,28,1)))\n",
    "model.add(MaxPooling2D(2,2))\n",
    "model.add(Flatten())\n",
    "model.add(Dense(128,activation='relu'))\n",
    "model.add(Dense(10,activation='softmax'))\n",
    "model.compile(loss='categorical_crossentropy',\n",
    "             optimizer='adam',\n",
    "             metrics=['accuracy'])\n",
    "\n",
    "# for fitting\n",
    "model.fit(xtrain,ytrain,batch_size=100,epochs=10,validation_split=0.2)"
   ]
  },
  {
   "cell_type": "markdown",
   "metadata": {},
   "source": [
    "# Train on 33600 samples, validate on 8400 samples\n",
    "Epoch 1/10\n",
    "33600/33600 [==============================] - 20s 596us/step - loss: 0.3573 - acc: 0.8960 - val_loss: 0.1054 - val_acc: 0.9690\n",
    "Epoch 2/10\n",
    "33600/33600 [==============================] - 19s 570us/step - loss: 0.0916 - acc: 0.9716 - val_loss: 0.0699 - val_acc: 0.9799\n",
    "Epoch 3/10\n",
    "33600/33600 [==============================] - 19s 580us/step - loss: 0.0660 - acc: 0.9798 - val_loss: 0.0562 - val_acc: 0.9831\n",
    "Epoch 4/10\n",
    "33600/33600 [==============================] - 19s 558us/step - loss: 0.0494 - acc: 0.9847 - val_loss: 0.0509 - val_acc: 0.9845\n",
    "Epoch 5/10\n",
    "33600/33600 [==============================] - 19s 565us/step - loss: 0.0412 - acc: 0.9875 - val_loss: 0.0506 - val_acc: 0.9839\n",
    "Epoch 6/10\n",
    "33600/33600 [==============================] - 19s 567us/step - loss: 0.0338 - acc: 0.9901 - val_loss: 0.0463 - val_acc: 0.9854\n",
    "Epoch 7/10\n",
    "33600/33600 [==============================] - 19s 575us/step - loss: 0.0280 - acc: 0.9909 - val_loss: 0.0509 - val_acc: 0.9837\n",
    "Epoch 8/10\n",
    "33600/33600 [==============================] - 19s 551us/step - loss: 0.0239 - acc: 0.9928 - val_loss: 0.0430 - val_acc: 0.9874\n",
    "Epoch 9/10\n",
    "33600/33600 [==============================] - 17s 512us/step - loss: 0.0200 - acc: 0.9936 - val_loss: 0.0411 - val_acc: 0.9881\n",
    "Epoch 10/10\n",
    "33600/33600 [==============================] - 17s 505us/step - loss: 0.0171 - acc: 0.9947 - val_loss: 0.0546 - val_acc: 0.9845"
   ]
  },
  {
   "cell_type": "code",
   "execution_count": null,
   "metadata": {},
   "outputs": [],
   "source": [
    "#prediction of test data using above model  \n",
    "output = np.argmax(model.predict(test),axis = 1)"
   ]
  },
  {
   "cell_type": "code",
   "execution_count": null,
   "metadata": {},
   "outputs": [],
   "source": [
    "#convert the predicted data into a 1D array with name 'label'\n",
    "output = pd.Series(output,name='label')"
   ]
  },
  {
   "cell_type": "code",
   "execution_count": null,
   "metadata": {},
   "outputs": [],
   "source": [
    "#concatenation of ImageId with predicted output\n",
    "final_output = pd.concat([pd.Series(range(1,28001),name='ImageId'),output],axis=1)\n",
    "#convert the array into csv file\n",
    "final_output.to_csv(\"Handwritten-digit-recognition.csv\",index=False)"
   ]
  }
 ],
 "metadata": {
  "kernelspec": {
   "display_name": "Python 3",
   "language": "python",
   "name": "python3"
  },
  "language_info": {
   "codemirror_mode": {
    "name": "ipython",
    "version": 3
   },
   "file_extension": ".py",
   "mimetype": "text/x-python",
   "name": "python",
   "nbconvert_exporter": "python",
   "pygments_lexer": "ipython3",
   "version": "3.7.0"
  }
 },
 "nbformat": 4,
 "nbformat_minor": 2
}
